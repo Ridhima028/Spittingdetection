{
  "nbformat": 4,
  "nbformat_minor": 0,
  "metadata": {
    "colab": {
      "provenance": []
    },
    "kernelspec": {
      "name": "python3",
      "display_name": "Python 3"
    },
    "language_info": {
      "name": "python"
    }
  },
  "cells": [
    {
      "cell_type": "code",
      "execution_count": null,
      "metadata": {
        "colab": {
          "base_uri": "https://localhost:8080/"
        },
        "id": "kVWtg3IDLRgz",
        "outputId": "5a99356e-c45c-4599-b5e3-604c07898df9"
      },
      "outputs": [
        {
          "output_type": "stream",
          "name": "stdout",
          "text": [
            "Requirement already satisfied: openpyxl in /usr/local/lib/python3.11/dist-packages (3.1.5)\n",
            "Requirement already satisfied: et-xmlfile in /usr/local/lib/python3.11/dist-packages (from openpyxl) (2.0.0)\n"
          ]
        }
      ],
      "source": [
        "\n",
        "!pip install openpyxl\n"
      ]
    },
    {
      "cell_type": "code",
      "source": [
        "import pandas as pd\n",
        "import requests\n",
        "from PIL import Image\n",
        "from io import BytesIO\n",
        "from torchvision import transforms\n",
        "from torch.utils.data import Dataset, DataLoader, random_split\n",
        "import torch\n",
        "import torch.nn as nn\n",
        "import torch.optim as optim\n",
        "import os"
      ],
      "metadata": {
        "id": "0hzBfyC5MrhY"
      },
      "execution_count": null,
      "outputs": []
    },
    {
      "cell_type": "code",
      "source": [
        "# Step 1: Load Dataset\n",
        "df = pd.read_excel(\"/content/dataset (1) (1).xlsx\")\n",
        "df = df[df['Spitting Yes/No'].isin(['Yes', 'No'])]\n",
        "\n",
        "# Step 2: Define Custom Dataset\n",
        "class SpitDataset(Dataset):\n",
        "    def __init__(self, df, transform=None):\n",
        "        self.df = df.reset_index(drop=True)\n",
        "        self.transform = transform\n",
        "\n",
        "    def __len__(self):\n",
        "        return len(self.df)\n",
        "\n",
        "    def __getitem__(self, idx):\n",
        "        url = self.df.loc[idx, 'Image address']\n",
        "        label = 1 if self.df.loc[idx, 'Spitting Yes/No'] == 'Yes' else 0\n",
        "\n",
        "        try:\n",
        "            response = requests.get(url, timeout=5)\n",
        "            img = Image.open(BytesIO(response.content)).convert('RGB')\n",
        "        except:\n",
        "            img = Image.new('RGB', (128, 128))  # Black dummy image on failure\n",
        "\n",
        "        if self.transform:\n",
        "            img = self.transform(img)\n",
        "\n",
        "        return img, label"
      ],
      "metadata": {
        "id": "4P4_ZaU4NM23"
      },
      "execution_count": null,
      "outputs": []
    },
    {
      "cell_type": "code",
      "source": [
        "# Step 3: Transformations\n",
        "transform = transforms.Compose([\n",
        "    transforms.Resize((128, 128)),\n",
        "    transforms.RandomHorizontalFlip(),\n",
        "    transforms.ToTensor()\n",
        "])"
      ],
      "metadata": {
        "id": "U8K-wzU2NSVd"
      },
      "execution_count": null,
      "outputs": []
    },
    {
      "cell_type": "code",
      "source": [
        "# Step 4: Load dataset\n",
        "full_dataset = SpitDataset(df, transform=transform)"
      ],
      "metadata": {
        "id": "xe-C_9IJPhPy"
      },
      "execution_count": null,
      "outputs": []
    },
    {
      "cell_type": "code",
      "source": [
        "# Split into train and val\n",
        "train_size = int(0.8 * len(full_dataset))\n",
        "val_size = len(full_dataset) - train_size\n",
        "train_ds, val_ds = random_split(full_dataset, [train_size, val_size])\n",
        "\n",
        "train_loader = DataLoader(train_ds, batch_size=8, shuffle=True)\n",
        "val_loader = DataLoader(val_ds, batch_size=8)\n"
      ],
      "metadata": {
        "id": "C3j28ciYPkLE"
      },
      "execution_count": null,
      "outputs": []
    },
    {
      "cell_type": "code",
      "source": [
        "# Step 5: Define CNN in PyTorch\n",
        "class CNN(nn.Module):\n",
        "    def __init__(self):\n",
        "        super(CNN, self).__init__()\n",
        "        self.conv = nn.Sequential(\n",
        "            nn.Conv2d(3, 32, 3, padding=1), nn.ReLU(), nn.MaxPool2d(2),\n",
        "            nn.Conv2d(32, 64, 3, padding=1), nn.ReLU(), nn.MaxPool2d(2),\n",
        "            nn.Conv2d(64, 128, 3, padding=1), nn.ReLU(), nn.MaxPool2d(2)\n",
        "        )\n",
        "        self.fc = nn.Sequential(\n",
        "            nn.Dropout(0.5),\n",
        "            nn.Linear(128 * 16 * 16, 128), nn.ReLU(),\n",
        "            nn.Linear(128, 1), nn.Sigmoid()\n",
        "        )\n",
        "\n",
        "    def forward(self, x):\n",
        "        x = self.conv(x)\n",
        "        x = x.view(x.size(0), -1)\n",
        "        return self.fc(x)\n",
        "\n",
        "# Step 6: Train the model\n",
        "device = torch.device(\"cuda\" if torch.cuda.is_available() else \"cpu\")\n",
        "model = CNN().to(device)\n",
        "criterion = nn.BCELoss()\n",
        "optimizer = optim.Adam(model.parameters(), lr=0.001)"
      ],
      "metadata": {
        "id": "39Jwl8SlPnZT"
      },
      "execution_count": null,
      "outputs": []
    },
    {
      "cell_type": "code",
      "source": [
        "# Training Loop\n",
        "epochs = 30\n",
        "for epoch in range(epochs):\n",
        "    model.train()\n",
        "    train_loss = 0\n",
        "    for imgs, labels in train_loader:\n",
        "        imgs, labels = imgs.to(device), labels.float().to(device).view(-1, 1)\n",
        "\n",
        "        optimizer.zero_grad()\n",
        "        outputs = model(imgs)\n",
        "        loss = criterion(outputs, labels)\n",
        "        loss.backward()\n",
        "        optimizer.step()\n",
        "        train_loss += loss.item()\n",
        "\n",
        "    print(f\"Epoch {epoch+1}/{epochs} - Loss: {train_loss:.4f}\")"
      ],
      "metadata": {
        "colab": {
          "base_uri": "https://localhost:8080/"
        },
        "id": "P5IjCEZSPsek",
        "outputId": "5dd12909-f569-48c7-c180-85755e7ce0be"
      },
      "execution_count": null,
      "outputs": [
        {
          "output_type": "stream",
          "name": "stdout",
          "text": [
            "Epoch 1/30 - Loss: 3.6811\n",
            "Epoch 2/30 - Loss: 3.3862\n",
            "Epoch 3/30 - Loss: 3.3726\n",
            "Epoch 4/30 - Loss: 3.3086\n",
            "Epoch 5/30 - Loss: 3.2487\n",
            "Epoch 6/30 - Loss: 3.1548\n",
            "Epoch 7/30 - Loss: 3.0753\n",
            "Epoch 8/30 - Loss: 3.1946\n",
            "Epoch 9/30 - Loss: 2.8043\n",
            "Epoch 10/30 - Loss: 2.8841\n",
            "Epoch 11/30 - Loss: 2.4949\n",
            "Epoch 12/30 - Loss: 2.5871\n",
            "Epoch 13/30 - Loss: 2.8782\n",
            "Epoch 14/30 - Loss: 2.1905\n",
            "Epoch 15/30 - Loss: 2.1282\n",
            "Epoch 16/30 - Loss: 1.7795\n",
            "Epoch 17/30 - Loss: 1.2993\n",
            "Epoch 18/30 - Loss: 1.3724\n",
            "Epoch 19/30 - Loss: 4.7310\n",
            "Epoch 20/30 - Loss: 3.6252\n",
            "Epoch 21/30 - Loss: 2.4830\n",
            "Epoch 22/30 - Loss: 2.5540\n",
            "Epoch 23/30 - Loss: 2.0694\n",
            "Epoch 24/30 - Loss: 1.7149\n",
            "Epoch 25/30 - Loss: 1.2734\n",
            "Epoch 26/30 - Loss: 2.2022\n",
            "Epoch 27/30 - Loss: 2.7227\n",
            "Epoch 28/30 - Loss: 1.3206\n",
            "Epoch 29/30 - Loss: 1.1498\n",
            "Epoch 30/30 - Loss: 0.8587\n"
          ]
        }
      ]
    },
    {
      "cell_type": "code",
      "source": [
        "# Step 7: Evaluate\n",
        "model.eval()\n",
        "correct = 0\n",
        "total = 0\n",
        "with torch.no_grad():\n",
        "    for imgs, labels in val_loader:\n",
        "        imgs, labels = imgs.to(device), labels.to(device).view(-1, 1).float()\n",
        "        outputs = model(imgs)\n",
        "        predicted = (outputs > 0.5).float()\n",
        "        total += labels.size(0)\n",
        "        correct += (predicted == labels).sum().item()\n",
        "\n",
        "print(f\"\\nValidation Accuracy: {(correct/total)*100:.2f}%\")"
      ],
      "metadata": {
        "colab": {
          "base_uri": "https://localhost:8080/"
        },
        "id": "CaIxqhSrPwst",
        "outputId": "4d3e3879-0169-4504-feeb-92bb9c4277d7"
      },
      "execution_count": null,
      "outputs": [
        {
          "output_type": "stream",
          "name": "stdout",
          "text": [
            "\n",
            "Validation Accuracy: 90.00%\n"
          ]
        }
      ]
    },
    {
      "cell_type": "code",
      "source": [],
      "metadata": {
        "id": "S3LD8T7JQbAL"
      },
      "execution_count": null,
      "outputs": []
    }
  ]
}